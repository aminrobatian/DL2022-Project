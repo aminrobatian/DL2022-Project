{
 "cells": [
  {
   "cell_type": "markdown",
   "id": "2beb02b9",
   "metadata": {},
   "source": [
    "# **Deep Learning Project**\n",
    "\n",
    "## **Phase 2**\n",
    "\n",
    "\n",
    "\n",
    "*   Sobhan Asasi    \n",
    "(400206392)\n",
    "*   Mohammad Hajipour   \n",
    "(401301843)\n",
    "*   Amin Robatian   \n",
    "(400301075)\n",
    "\n",
    "\n"
   ]
  },
  {
   "cell_type": "markdown",
   "id": "cf1970f7",
   "metadata": {},
   "source": [
    "# Requirements"
   ]
  },
  {
   "cell_type": "code",
   "execution_count": 1,
   "id": "75d97717",
   "metadata": {},
   "outputs": [],
   "source": [
    "# !pip install pycm\n",
    "# !pip install torchtext\n",
    "# !pip install transformers"
   ]
  },
  {
   "cell_type": "code",
   "execution_count": 2,
   "id": "57b873ab",
   "metadata": {},
   "outputs": [
    {
     "name": "stdout",
     "output_type": "stream",
     "text": [
      "Using cuda device\n"
     ]
    }
   ],
   "source": [
    "import torch\n",
    "import torch.nn as nn\n",
    "import torch.nn.functional as F\n",
    "import torchvision\n",
    "from torch.utils.data import Dataset, DataLoader\n",
    "from torchvision import transforms\n",
    "from torchvision.transforms import ToTensor\n",
    "import torch.optim as optim\n",
    "from torch.utils.data.sampler import SubsetRandomSampler\n",
    "\n",
    "import torchtext\n",
    "from torchtext.data import get_tokenizer\n",
    "from torchtext.vocab import GloVe\n",
    "\n",
    "from transformers import BertTokenizer\n",
    "from transformers import BertModel\n",
    "\n",
    "import pickle\n",
    "import os\n",
    "\n",
    "from PIL import Image\n",
    "import pandas as pd\n",
    "import numpy as np\n",
    "import matplotlib.pyplot as plt\n",
    "import random\n",
    "import time\n",
    "import ast\n",
    "\n",
    "import itertools\n",
    "import re\n",
    "import os\n",
    "import contextlib\n",
    "from typing import Any, Callable, Dict, IO, Iterable, Iterator, List, Optional, Tuple, TypeVar\n",
    "import requests\n",
    "from torch.utils.model_zoo import tqdm\n",
    "import zipfile\n",
    "\n",
    "import glob\n",
    "\n",
    "device = \"cuda\" if torch.cuda.is_available() else \"cpu\"\n",
    "print(f\"Using {device} device\")\n",
    "\n",
    "import warnings\n",
    "warnings.filterwarnings('ignore')\n",
    "\n",
    "import scipy\n",
    "from collections import Counter\n",
    "from tqdm import tqdm\n",
    "import re \n",
    "\n",
    "from sklearn.model_selection import train_test_split\n",
    "from sklearn.metrics import confusion_matrix, accuracy_score, f1_score, ConfusionMatrixDisplay\n",
    "from sklearn.feature_extraction.text import TfidfVectorizer\n",
    "from sklearn import svm\n",
    "\n",
    "from pycm import *"
   ]
  },
  {
   "cell_type": "code",
   "execution_count": 3,
   "id": "e0d8a941",
   "metadata": {},
   "outputs": [],
   "source": [
    "def seed_everything(seed: int):\n",
    "    random.seed(seed)\n",
    "    np.random.seed(seed)\n",
    "    torch.manual_seed(seed)\n",
    "    torch.cuda.manual_seed(seed)\n",
    "    torch.backends.cudnn.deterministic = True\n",
    "    torch.backends.cudnn.benchmark = True\n",
    "\n",
    "seed_everything(42)"
   ]
  },
  {
   "cell_type": "markdown",
   "id": "6070747e",
   "metadata": {},
   "source": [
    "# Download Dataset Functions"
   ]
  },
  {
   "cell_type": "code",
   "execution_count": 4,
   "id": "b1704f50",
   "metadata": {},
   "outputs": [],
   "source": [
    "def create_dataset_directory(root, dataset_name):\n",
    "        \n",
    "        filename_dict = {'train':'train.zip',\n",
    "                         'dev':'dev.zip',\n",
    "                         'test':'test.zip',\n",
    "                         'MSCTD_data_train':'MSCTD_data_train.zip',\n",
    "                         'MSCTD_data_dev':'MSCTD_data_dev.zip',\n",
    "                         'MSCTD_data_test':'MSCTD_data_test.zip'}\n",
    "        \n",
    "        id_dict = {'train':'156yOz7M1sAfz4RK6OEQoPsaaPOMhrsT6',\n",
    "                   'dev':'1URhTfBeUQiAmzb_2gxtn4MCXUxFywGnR',\n",
    "                   'test':'1MbzM9Twe5KCWAKwZYvZO_OK-v8qRVSPF',\n",
    "                   'MSCTD_data_train':'1AEwXhfMApCWzGyGr6KRzPtx7hBy3jZXt',\n",
    "                   'MSCTD_data_dev': '1h3YnPZlIdSqPsggoms1zK2ZF5enSBcDH',\n",
    "                   'MSCTD_data_test':'1pYWqfTd9rZuQuKgL0wv34Ybz5OINI6SV'}\n",
    "        \n",
    "        isExist = os.path.exists(os.path.join(root, dataset_name))\n",
    "        \n",
    "        if not isExist:\n",
    "            # Create a new directory because it does not exist\n",
    "            os.makedirs(os.path.join(root, dataset_name))\n",
    "            print(\"The \" +dataset_name+ \" directory is created!\")\n",
    "            print('Downloading ...')\n",
    "            download_file_from_google_drive(id_dict['MSCTD_data_'+dataset_name],\n",
    "                                            os.path.join(root, dataset_name, filename_dict['MSCTD_data_'+dataset_name]))\n",
    "            download_file_from_google_drive(id_dict[dataset_name],\n",
    "                                os.path.join(root, dataset_name, filename_dict[dataset_name]))\n",
    "            \n",
    "            _extract_zip(os.path.join(root, dataset_name, filename_dict['MSCTD_data_'+dataset_name]),os.path.join(root, dataset_name))\n",
    "            _extract_zip(os.path.join(root, dataset_name, filename_dict[dataset_name]),os.path.join(root, dataset_name))\n",
    "            \n",
    "        if(dataset_name=='train'):\n",
    "            list_path_out = [os.path.join(root, dataset_name, filename_dict['MSCTD_data_'+dataset_name].split('.')[0], 'english_'+dataset_name+'.txt'),\n",
    "           os.path.join(root, dataset_name, filename_dict['MSCTD_data_'+dataset_name].split('.')[0], 'sentiment_'+dataset_name+'.txt'),\n",
    "           os.path.join(root, dataset_name, filename_dict['MSCTD_data_'+dataset_name].split('.')[0], 'image_index_'+dataset_name+'.txt'),\n",
    "           os.path.join(root, dataset_name, filename_dict[dataset_name].split('.')[0]+'_ende')]\n",
    "        else:\n",
    "            list_path_out = [os.path.join(root, dataset_name, filename_dict['MSCTD_data_'+dataset_name].split('.')[0], 'english_'+dataset_name+'.txt'),\n",
    "           os.path.join(root, dataset_name, filename_dict['MSCTD_data_'+dataset_name].split('.')[0], 'sentiment_'+dataset_name+'.txt'),\n",
    "           os.path.join(root, dataset_name, filename_dict['MSCTD_data_'+dataset_name].split('.')[0], 'image_index_'+dataset_name+'.txt'),\n",
    "           os.path.join(root, dataset_name, filename_dict[dataset_name].split('.')[0])]\n",
    "        \n",
    "        return list_path_out\n",
    "\n",
    "\n",
    "def download_file_from_google_drive(file_id: str, fpath: str):\n",
    "    \"\"\"Download a Google Drive file from  and place it in root.\n",
    "    Args:\n",
    "        file_id (str): id of file to be downloaded\n",
    "        root (str): Directory to place downloaded file in\n",
    "        filename (str, optional): Name to save the file under. If None, use the id of the file.\n",
    "    \"\"\"\n",
    "\n",
    "    url = \"https://drive.google.com/uc\"\n",
    "    params = dict(id=file_id, export=\"download\")\n",
    "    with requests.Session() as session:\n",
    "        response = session.get(url, params=params, stream=True)\n",
    "\n",
    "        for key, value in response.cookies.items():\n",
    "            if key.startswith(\"download_warning\"):\n",
    "                token = value\n",
    "                break\n",
    "        else:\n",
    "            api_response, content = _extract_gdrive_api_response(response)\n",
    "            token = \"t\" if api_response == \"Virus scan warning\" else None\n",
    "\n",
    "        if token is not None:\n",
    "            response = session.get(url, params=dict(params, confirm=token), stream=True)\n",
    "            api_response, content = _extract_gdrive_api_response(response)\n",
    "\n",
    "        if api_response == \"Quota exceeded\":\n",
    "            raise RuntimeError(\n",
    "                f\"The daily quota of the file {fpath} is exceeded and it \"\n",
    "                f\"can't be downloaded. This is a limitation of Google Drive \"\n",
    "                f\"and can only be overcome by trying again later.\"\n",
    "            )\n",
    "\n",
    "        _save_response_content(content, fpath)\n",
    "\n",
    "    # In case we deal with an unhandled GDrive API response, the file should be smaller than 10kB and contain only text\n",
    "    if os.stat(fpath).st_size < 10 * 1024:\n",
    "        with contextlib.suppress(UnicodeDecodeError), open(fpath) as fh:\n",
    "            text = fh.read()\n",
    "            # Regular expression to detect HTML. Copied from https://stackoverflow.com/a/70585604\n",
    "            if re.search(r\"</?\\s*[a-z-][^>]*\\s*>|(&(?:[\\w\\d]+|#\\d+|#x[a-f\\d]+);)\", text):\n",
    "                warnings.warn(\n",
    "                    f\"We detected some HTML elements in the downloaded file. \"\n",
    "                    f\"This most likely means that the download triggered an unhandled API response by GDrive. \"\n",
    "                    f\"Please report this to torchvision at https://github.com/pytorch/vision/issues including \"\n",
    "                    f\"the response:\\n\\n{text}\"\n",
    "                )\n",
    "\n",
    "def _extract_gdrive_api_response(response, chunk_size: int = 32 * 1024) -> Tuple[bytes, Iterator[bytes]]:\n",
    "    content = response.iter_content(chunk_size)\n",
    "    first_chunk = None\n",
    "    # filter out keep-alive new chunks\n",
    "    while not first_chunk:\n",
    "        first_chunk = next(content)\n",
    "    content = itertools.chain([first_chunk], content)\n",
    "\n",
    "    try:\n",
    "        match = re.search(\"<title>Google Drive - (?P<api_response>.+?)</title>\", first_chunk.decode())\n",
    "        api_response = match[\"api_response\"] if match is not None else None\n",
    "    except UnicodeDecodeError:\n",
    "        api_response = None\n",
    "    return api_response, content\n",
    "\n",
    "\n",
    "def _save_response_content(\n",
    "    content: Iterator[bytes],\n",
    "    destination: str,\n",
    "    length: Optional[int] = None,\n",
    ") -> None:\n",
    "    with open(destination, \"wb\") as fh, tqdm(total=length) as pbar:\n",
    "        for chunk in content:\n",
    "            # filter out keep-alive new chunks\n",
    "            if not chunk:\n",
    "                continue\n",
    "\n",
    "            fh.write(chunk)\n",
    "            pbar.update(len(chunk))\n",
    "\n",
    "\n",
    "def _extract_zip(from_path: str, to_path: str) -> None:\n",
    "    with zipfile.ZipFile(\n",
    "        from_path, \"r\", compression=zipfile.ZIP_STORED\n",
    "    ) as zip:\n",
    "        zip.extractall(to_path)\n"
   ]
  },
  {
   "cell_type": "code",
   "execution_count": 5,
   "id": "97ae2475",
   "metadata": {},
   "outputs": [],
   "source": [
    "def files_to_dataframe(text_add, sentiment_add, index_add):\n",
    "    \"\"\"\n",
    "    This function convert all necessary .txt files to a single dataframe\n",
    "\n",
    "    Args :\n",
    "    text_add : .txt of chats.\n",
    "    sentiment_add : .txt of emotions for each line.\n",
    "    index_add : .txt of related images for each line.\n",
    "\n",
    "    Output -> pd.dataframe\n",
    "\n",
    "    \"\"\"\n",
    "    df_text = pd.read_csv(text_add, delimiter = \"\\r\\t\", header=None, engine='python')\n",
    "    df_text.columns = ['text']\n",
    "\n",
    "    df_sentiment = pd.read_csv(sentiment_add, delimiter = \"\\t\", header=None)\n",
    "    df_sentiment.columns = ['label']\n",
    "\n",
    "    df_index = pd.read_csv(index_add, delimiter = \"\\t\", header=None)\n",
    "    df_index.columns = ['indexes']\n",
    "        \n",
    "    lst = [df_text, df_sentiment, df_index]  # List of your dataframes\n",
    "    df_result = pd.concat(lst, axis =1)\n",
    "\n",
    "    return df_result"
   ]
  },
  {
   "cell_type": "markdown",
   "id": "f8abb789",
   "metadata": {},
   "source": [
    "---\n",
    "# Part (1) - TF-IDF (Term Frequency-Inverse Document Frequency) \n",
    "\n",
    "\n",
    "tf-idf provides a weight of how relavent a perticular word is to the document or text context\n",
    "\n",
    "https://en.wikipedia.org/wiki/Tf-idf"
   ]
  },
  {
   "cell_type": "code",
   "execution_count": 6,
   "id": "a7aa007d",
   "metadata": {},
   "outputs": [],
   "source": [
    "# Use TfidfVectorizer to transform input texts into tfidf encoded float point matrix\n",
    "vectorizer = TfidfVectorizer(stop_words=\"english\")"
   ]
  },
  {
   "cell_type": "markdown",
   "id": "9a48f47c",
   "metadata": {},
   "source": [
    "### Create Dataset Class"
   ]
  },
  {
   "cell_type": "code",
   "execution_count": 7,
   "id": "f2aca043",
   "metadata": {},
   "outputs": [],
   "source": [
    "class MSCTDDataset(torch.utils.data.Dataset):\n",
    "    \"\"\"\n",
    "    Uses dataframe to preprocess and serve \n",
    "    dictionary of multimodal tensors for model input.\n",
    "    \"\"\"\n",
    "\n",
    "    def __init__(self, root = './data', dataset_name = 'train', text_transform=None, random_state=42, clean_pattern=None):\n",
    "        \n",
    "        \"\"\"\n",
    "        Args:\n",
    "        \n",
    "        text_add : .txt of chats.\n",
    "        sentiment_add : .txt of emotions for each line.\n",
    "        index_add : .txt of related images for each line.\n",
    "        img_dir : path to iamges folder\n",
    "        \n",
    "        \"\"\"\n",
    "        self.data_pathes = create_dataset_directory(root, dataset_name)\n",
    "        self.dataframe = files_to_dataframe(self.data_pathes[0], self.data_pathes[1], self.data_pathes[2])\n",
    "        self.img_dir = self.data_pathes[3]\n",
    "        self.text_transform = text_transform\n",
    "        self.clean_pattern = clean_pattern\n",
    "\n",
    "        \n",
    "        # clean our texts\n",
    "        if self.clean_pattern is not None:\n",
    "            for i in range(len(self.dataframe)):\n",
    "                text =  re.sub(self.clean_pattern, \" \", self.dataframe.text[i])\n",
    "                text = text.lower().strip()\n",
    "                self.dataframe.text[i] = text\n",
    "        else:\n",
    "            for i in range(len(self.dataframe)):\n",
    "                text =  self.dataframe.text[i]\n",
    "                text = text.lower().strip()\n",
    "                self.dataframe.text[i] = text\n",
    "                    \n",
    "                    \n",
    "        \n",
    "        if dataset_name == 'train':\n",
    "            # Learn vocabulary from training texts and vectorize training texts.\n",
    "            self.vectorized_text = vectorizer.fit_transform(self.dataframe.text)\n",
    "        else:\n",
    "            # Vectorize test/dev texts.\n",
    "            self.vectorized_text = vectorizer.transform(self.dataframe.text)\n",
    "            \n",
    "        # Convert tfidf sparse matrix into pytorch float type tensor in order to feed into pytorch neural network\n",
    "        self.vectorized_text = torch.tensor(scipy.sparse.csr_matrix.todense(self.vectorized_text)).float()\n",
    "        \n",
    "    def __len__(self):\n",
    "        \n",
    "        return len(self.dataframe)\n",
    "    \n",
    "    def __getitem__(self, idx):\n",
    "        \n",
    "        if torch.is_tensor(idx):\n",
    "            idx = idx.tolist()\n",
    "            \n",
    "        text = self.dataframe.loc[idx, 'text']\n",
    "        label = self.dataframe.loc[idx, 'label']\n",
    "        \n",
    "        return self.vectorized_text[idx], label"
   ]
  },
  {
   "cell_type": "code",
   "execution_count": 8,
   "id": "d7decb9b",
   "metadata": {},
   "outputs": [],
   "source": [
    "train_dataset =  MSCTDDataset(root = './data1', dataset_name = 'train', clean_pattern=\"[^a-zA-Z0-9]\")\n",
    "test_dataset =  MSCTDDataset(root = './data1', dataset_name = 'test', clean_pattern=\"[^a-zA-Z0-9]\")\n",
    "dev_dataset =  MSCTDDataset(root = './data1', dataset_name = 'dev', clean_pattern=\"[^a-zA-Z0-9]\")"
   ]
  },
  {
   "cell_type": "code",
   "execution_count": 9,
   "id": "baaa3a4c",
   "metadata": {},
   "outputs": [
    {
     "name": "stdout",
     "output_type": "stream",
     "text": [
      "Number of all sentences in train dataset is: 20,240\n",
      "Number of all sentences in test dataset is: 5,067\n",
      "Number of all sentences in development dataset is: 5,063\n"
     ]
    }
   ],
   "source": [
    "print(f'Number of all sentences in train dataset is: {len(train_dataset):,}')\n",
    "print(f'Number of all sentences in test dataset is: {len(test_dataset):,}')\n",
    "print(f'Number of all sentences in development dataset is: {len(dev_dataset):,}')"
   ]
  },
  {
   "cell_type": "code",
   "execution_count": 10,
   "id": "d2d6fb42",
   "metadata": {},
   "outputs": [
    {
     "name": "stdout",
     "output_type": "stream",
     "text": [
      "Sample Vectorized Sentence: tensor([0., 0., 0.,  ..., 0., 0., 0.])\n",
      "Sample Vectorized Sentence Shape: torch.Size([9277])\n",
      "Sample Label: 0\n"
     ]
    }
   ],
   "source": [
    "sample_train = train_dataset[0]\n",
    "#print(sample_train)\n",
    "print(f'Sample Vectorized Sentence: {sample_train[0]}')\n",
    "print(f'Sample Vectorized Sentence Shape: {sample_train[0].shape}')\n",
    "print(f'Sample Label: {sample_train[1]}')"
   ]
  },
  {
   "cell_type": "markdown",
   "id": "6f8801f9",
   "metadata": {},
   "source": [
    "### Dataloader"
   ]
  },
  {
   "cell_type": "code",
   "execution_count": 11,
   "id": "56d9f135",
   "metadata": {},
   "outputs": [],
   "source": [
    "batch_size = 512\n",
    "\n",
    "train_loader = torch.utils.data.DataLoader(dataset=train_dataset, batch_size=batch_size, shuffle=True)\n",
    "dev_loader = torch.utils.data.DataLoader(dataset=dev_dataset, batch_size=batch_size, shuffle=True)\n",
    "test_loader = torch.utils.data.DataLoader(dataset=test_dataset, batch_size=batch_size, shuffle=False)"
   ]
  },
  {
   "cell_type": "markdown",
   "id": "2a666383",
   "metadata": {},
   "source": [
    "### Neural Network"
   ]
  },
  {
   "cell_type": "code",
   "execution_count": 12,
   "id": "9b5bdc0a",
   "metadata": {},
   "outputs": [],
   "source": [
    "class MLP(nn.Module):\n",
    "    \n",
    "    def __init__(self):\n",
    "        super(MLP, self).__init__()\n",
    "        self.fc1 = nn.Linear(dev_dataset[0][0].shape[0], 3)\n",
    "        self.relu = nn.ReLU()\n",
    "        self.drop = nn.Dropout(0.1)\n",
    "        self.fc2 = nn.Linear(64, 3)\n",
    "        self.softmax = nn.LogSoftmax(dim=1)\n",
    "        \n",
    "    def forward(self,x):\n",
    "        x = self.fc1(x.to(torch.float))\n",
    "        x = self.softmax(x)\n",
    "        \n",
    "        return x"
   ]
  },
  {
   "cell_type": "code",
   "execution_count": 13,
   "id": "78d3a7c3",
   "metadata": {},
   "outputs": [],
   "source": [
    "model_MLP_tf_idf = MLP().to(device)"
   ]
  },
  {
   "cell_type": "code",
   "execution_count": 14,
   "id": "08acf3bb",
   "metadata": {},
   "outputs": [
    {
     "name": "stdout",
     "output_type": "stream",
     "text": [
      "Number of Network's Parameters: 28,029\n"
     ]
    }
   ],
   "source": [
    "pytorch_total_params = sum(p.numel() for p in model_MLP_tf_idf.parameters() if p.requires_grad)\n",
    "print(f\"Number of Network's Parameters: {pytorch_total_params:,}\")"
   ]
  },
  {
   "cell_type": "markdown",
   "id": "35766b40",
   "metadata": {},
   "source": [
    "### Training Loop"
   ]
  },
  {
   "cell_type": "code",
   "execution_count": 15,
   "id": "87a25195",
   "metadata": {},
   "outputs": [],
   "source": [
    "def train(model, train_dataloader, val_dataloader, learning_rate, epochs, criterion, optimizer):\n",
    "\n",
    "\n",
    "    use_cuda = torch.cuda.is_available()\n",
    "    device = torch.device(\"cuda\" if use_cuda else \"cpu\")\n",
    "\n",
    "    if use_cuda:\n",
    "\n",
    "            model = model.cuda()\n",
    "            criterion = criterion.cuda()\n",
    "\n",
    "    for epoch_num in range(epochs):\n",
    "\n",
    "            total_acc_train = 0\n",
    "            total_loss_train = 0\n",
    "\n",
    "            for train_input, train_label in tqdm(train_dataloader):\n",
    "\n",
    "                train_input = train_input.to(device)\n",
    "                train_label = train_label.to(device)\n",
    "\n",
    "                output = model(train_input)\n",
    "                \n",
    "                batch_loss = criterion(output, train_label.long())\n",
    "                total_loss_train += batch_loss.item()\n",
    "                \n",
    "                acc = (output.argmax(dim=1) == train_label).sum().item()\n",
    "                total_acc_train += acc\n",
    "\n",
    "                model.zero_grad()\n",
    "                batch_loss.backward()\n",
    "                optimizer.step()\n",
    "            \n",
    "            total_acc_val = 0\n",
    "            total_loss_val = 0\n",
    "\n",
    "            with torch.no_grad():\n",
    "\n",
    "                for val_input, val_label in val_dataloader:\n",
    "\n",
    "                    \n",
    "                    val_input = val_input.to(device)\n",
    "                    val_label = val_label.to(device)\n",
    "\n",
    "                    output = model(val_input)\n",
    "\n",
    "                    batch_loss = criterion(output, val_label.long())\n",
    "                    total_loss_val += batch_loss.item()\n",
    "                    \n",
    "                    acc = (output.argmax(dim=1) == val_label).sum().item()\n",
    "                    total_acc_val += acc\n",
    "                    \n",
    "            print(\n",
    "                f'Epochs: {epoch_num + 1} | Train Loss: {total_loss_train / len(train_dataset): .3f} \\\n",
    "                | Train Accuracy: {(100 * total_acc_train / len(train_dataset)): .2f}% \\\n",
    "                | Val Loss: {total_loss_val / len(dev_dataset): .3f} \\\n",
    "                | Val Accuracy: {(100 * total_acc_val / len(dev_dataset)): .2f}%')"
   ]
  },
  {
   "cell_type": "code",
   "execution_count": 16,
   "id": "2d64980a",
   "metadata": {},
   "outputs": [
    {
     "name": "stderr",
     "output_type": "stream",
     "text": [
      "100%|███████████████████████████████████████████| 40/40 [00:00<00:00, 53.85it/s]\n"
     ]
    },
    {
     "name": "stdout",
     "output_type": "stream",
     "text": [
      "Epochs: 1 | Train Loss:  0.002                 | Train Accuracy:  40.01%                 | Val Loss:  0.002                 | Val Accuracy:  37.80%\n"
     ]
    },
    {
     "name": "stderr",
     "output_type": "stream",
     "text": [
      "100%|██████████████████████████████████████████| 40/40 [00:00<00:00, 141.19it/s]\n"
     ]
    },
    {
     "name": "stdout",
     "output_type": "stream",
     "text": [
      "Epochs: 2 | Train Loss:  0.002                 | Train Accuracy:  43.14%                 | Val Loss:  0.002                 | Val Accuracy:  39.74%\n"
     ]
    },
    {
     "name": "stderr",
     "output_type": "stream",
     "text": [
      "100%|██████████████████████████████████████████| 40/40 [00:00<00:00, 143.26it/s]\n"
     ]
    },
    {
     "name": "stdout",
     "output_type": "stream",
     "text": [
      "Epochs: 3 | Train Loss:  0.002                 | Train Accuracy:  46.00%                 | Val Loss:  0.002                 | Val Accuracy:  41.26%\n"
     ]
    },
    {
     "name": "stderr",
     "output_type": "stream",
     "text": [
      "100%|██████████████████████████████████████████| 40/40 [00:00<00:00, 143.67it/s]\n"
     ]
    },
    {
     "name": "stdout",
     "output_type": "stream",
     "text": [
      "Epochs: 4 | Train Loss:  0.002                 | Train Accuracy:  51.52%                 | Val Loss:  0.002                 | Val Accuracy:  43.16%\n"
     ]
    },
    {
     "name": "stderr",
     "output_type": "stream",
     "text": [
      "100%|██████████████████████████████████████████| 40/40 [00:00<00:00, 136.71it/s]\n"
     ]
    },
    {
     "name": "stdout",
     "output_type": "stream",
     "text": [
      "Epochs: 5 | Train Loss:  0.002                 | Train Accuracy:  54.54%                 | Val Loss:  0.002                 | Val Accuracy:  44.20%\n"
     ]
    },
    {
     "name": "stderr",
     "output_type": "stream",
     "text": [
      "100%|██████████████████████████████████████████| 40/40 [00:00<00:00, 143.71it/s]\n"
     ]
    },
    {
     "name": "stdout",
     "output_type": "stream",
     "text": [
      "Epochs: 6 | Train Loss:  0.002                 | Train Accuracy:  58.11%                 | Val Loss:  0.002                 | Val Accuracy:  45.09%\n"
     ]
    },
    {
     "name": "stderr",
     "output_type": "stream",
     "text": [
      "100%|██████████████████████████████████████████| 40/40 [00:00<00:00, 140.01it/s]\n"
     ]
    },
    {
     "name": "stdout",
     "output_type": "stream",
     "text": [
      "Epochs: 7 | Train Loss:  0.002                 | Train Accuracy:  59.79%                 | Val Loss:  0.002                 | Val Accuracy:  45.45%\n"
     ]
    },
    {
     "name": "stderr",
     "output_type": "stream",
     "text": [
      "100%|██████████████████████████████████████████| 40/40 [00:00<00:00, 145.99it/s]\n"
     ]
    },
    {
     "name": "stdout",
     "output_type": "stream",
     "text": [
      "Epochs: 8 | Train Loss:  0.002                 | Train Accuracy:  61.02%                 | Val Loss:  0.002                 | Val Accuracy:  46.28%\n"
     ]
    },
    {
     "name": "stderr",
     "output_type": "stream",
     "text": [
      "100%|██████████████████████████████████████████| 40/40 [00:00<00:00, 145.65it/s]\n"
     ]
    },
    {
     "name": "stdout",
     "output_type": "stream",
     "text": [
      "Epochs: 9 | Train Loss:  0.002                 | Train Accuracy:  62.56%                 | Val Loss:  0.002                 | Val Accuracy:  46.89%\n"
     ]
    },
    {
     "name": "stderr",
     "output_type": "stream",
     "text": [
      "100%|██████████████████████████████████████████| 40/40 [00:00<00:00, 142.86it/s]\n"
     ]
    },
    {
     "name": "stdout",
     "output_type": "stream",
     "text": [
      "Epochs: 10 | Train Loss:  0.002                 | Train Accuracy:  63.40%                 | Val Loss:  0.002                 | Val Accuracy:  47.15%\n"
     ]
    }
   ],
   "source": [
    "EPOCHS = 10\n",
    "LR = 2e-3\n",
    "criterion = nn.NLLLoss()\n",
    "optimizer = optim.Adam(model_MLP_tf_idf.parameters(), lr=LR)\n",
    "\n",
    "train(model_MLP_tf_idf, train_loader, dev_loader, LR, EPOCHS, criterion, optimizer)"
   ]
  },
  {
   "cell_type": "markdown",
   "id": "bdcd1867",
   "metadata": {},
   "source": [
    "### Evaluate Model on Test Data"
   ]
  },
  {
   "cell_type": "code",
   "execution_count": 17,
   "id": "7bc67335",
   "metadata": {},
   "outputs": [],
   "source": [
    "def evaluate(model, test_dataloader):\n",
    "\n",
    "    use_cuda = torch.cuda.is_available()\n",
    "    device = torch.device(\"cuda\" if use_cuda else \"cpu\")\n",
    "\n",
    "    if use_cuda:\n",
    "\n",
    "        model = model.cuda()\n",
    "\n",
    "    total_acc_test = 0\n",
    "    with torch.no_grad():\n",
    "        \n",
    "        y_pred = []\n",
    "        y_true = []\n",
    "\n",
    "        for test_input, test_label in test_dataloader:\n",
    "\n",
    "            test_input = test_input.to(device)\n",
    "            test_label = test_label.to(device)\n",
    "\n",
    "            output = model(test_input)\n",
    "\n",
    "            acc = (output.argmax(dim=1) == test_label).sum().item()\n",
    "            total_acc_test += acc\n",
    "\n",
    "            output = output.argmax(dim=1).data.cpu().numpy()\n",
    "            y_pred.extend(output) # Save Prediction\n",
    "            test_label = test_label.data.cpu().numpy()\n",
    "            y_true.extend(test_label) # Save Truth\n",
    "            \n",
    "    return y_true, y_pred"
   ]
  },
  {
   "cell_type": "code",
   "execution_count": 18,
   "id": "a347e388",
   "metadata": {},
   "outputs": [],
   "source": [
    "model_MLP_tf_idf.eval()\n",
    "y_true, y_pred = evaluate(model_MLP_tf_idf, test_loader)"
   ]
  },
  {
   "cell_type": "markdown",
   "id": "b830de56",
   "metadata": {},
   "source": [
    "### Results"
   ]
  },
  {
   "cell_type": "code",
   "execution_count": 19,
   "id": "019399ea",
   "metadata": {},
   "outputs": [
    {
     "name": "stdout",
     "output_type": "stream",
     "text": [
      "Accuracy: 49.16%\n",
      "\n",
      "F1 score: 44.16%\n",
      "\n",
      "Confusion Matrix:\n"
     ]
    },
    {
     "data": {
      "text/plain": [
       "<sklearn.metrics._plot.confusion_matrix.ConfusionMatrixDisplay at 0x7f231bc0b490>"
      ]
     },
     "execution_count": 19,
     "metadata": {},
     "output_type": "execute_result"
    },
    {
     "data": {
      "image/png": "[encoded data removed]",
      "text/plain": [
       "<Figure size 640x480 with 2 Axes>"
      ]
     },
     "metadata": {},
     "output_type": "display_data"
    }
   ],
   "source": [
    "accuracy = accuracy_score(y_true, y_pred)\n",
    "print(f'Accuracy: {(100*accuracy):>0.2f}%\\n')\n",
    "f1 = f1_score(y_true, y_pred, average='macro')\n",
    "print(f'F1 score: {(100*f1):>0.2f}%\\n')\n",
    "\n",
    "print('Confusion Matrix:')\n",
    "classes = ['Neutral','Negative','Positive']\n",
    "cf_matrix = confusion_matrix(y_true,y_pred)\n",
    "disp = ConfusionMatrixDisplay(confusion_matrix=cf_matrix/np.sum(cf_matrix) * 100, display_labels = [i for i in classes])\n",
    "disp.plot()"
   ]
  },
  {
   "cell_type": "markdown",
   "id": "6bd471a0",
   "metadata": {},
   "source": [
    "---\n",
    "# Part (2) - SVD"
   ]
  },
  {
   "cell_type": "markdown",
   "id": "23ed3876",
   "metadata": {},
   "source": [
    "### Create Embedding With SVM Parameter"
   ]
  },
  {
   "cell_type": "code",
   "execution_count": 20,
   "id": "f7f1c04c",
   "metadata": {},
   "outputs": [],
   "source": [
    "def create_svm_dataset(dataframe, dict_data):\n",
    "    \n",
    "    total_name = []\n",
    "    total_weight = []\n",
    "    \n",
    "    for i in tqdm(range(len(dataframe))):\n",
    "\n",
    "        wrd_list = clean_doc(dataframe.text[i], \"[^a-zA-Z]\")\n",
    "\n",
    "        list_arr = []\n",
    "        list_name = []\n",
    "        for j in range(len(wrd_list)):\n",
    "            try:\n",
    "                list_arr.append(dict_data[wrd_list[j]])\n",
    "                list_name.append(wrd_list[j])\n",
    "            except:\n",
    "                continue\n",
    "\n",
    "        if(len(list_name)==0):\n",
    "            continue\n",
    "\n",
    "        total_name.extend(list_name)\n",
    "\n",
    "        data_x = np.zeros((len(list_name), len(dataframe)))\n",
    "        label_x = np.ones((len(list_name), 1))\n",
    "\n",
    "        for k in range(len(list_arr)):\n",
    "            data_x[k,:] = list_arr[k]\n",
    "\n",
    "        for s in range(len(list_name)):\n",
    "\n",
    "            data_y = np.zeros((len(list_name), len(dataframe)))\n",
    "            label_y = np.zeros((len(list_name), 1))\n",
    "            s = 0 \n",
    "            while(1):\n",
    "                dict_sample = random.sample(dict_data.items(), 1)\n",
    "                if dict_sample[0][0] in list_name:\n",
    "                    continue\n",
    "                else:\n",
    "                    data_y[s,:] = dict_sample[0][1]\n",
    "                    s += 1\n",
    "                    if(s == len(list_name)):\n",
    "                        break\n",
    "\n",
    "            #Create a svm Classifier\n",
    "            clf = svm.SVC(kernel='linear') # Linear Kernel\n",
    "\n",
    "            #Train the model using the training sets\n",
    "            clf.fit(np.concatenate((data_y, data_x), axis=0), np.concatenate((label_y, label_x), axis=0))\n",
    "            s = clf.get_params(deep=True)\n",
    "            total_weight.extend(clf.coef_)\n",
    "                                \n",
    "    return total_name, total_weight  \n",
    "                                \n",
    "def clean_doc(txt, clean_pattern):\n",
    "    txt =  re.sub(clean_pattern, \" \", txt)\n",
    "    txt = txt.lower().strip()\n",
    "    out = []\n",
    "    for i in txt.split(' '):\n",
    "        if(i != '' and len(i)>1):\n",
    "            out.append(i)\n",
    "    return out\n",
    "\n",
    "def Average(lst):\n",
    "    return sum(lst) / len(lst)\n",
    "\n",
    "def create_weight_dict(dict_data, word_dct, weight_dct):           \n",
    "    weight = {}\n",
    "    for i in dict_data.keys():\n",
    "        list_value = []\n",
    "        for j in range(len(word_dct)):\n",
    "            if(i==word_dct[j]):\n",
    "                list_value.append(weight_dct[j])\n",
    "        weight[i] = Average(list_value)\n",
    "                                \n",
    "    return weight\n",
    "\n",
    "\n",
    "def svm_embedding():\n",
    "                                \n",
    "    txt_train = './data1/train/MSCTD_data_train/english_train.txt'\n",
    "    sentiment_train = './data1/train/MSCTD_data_train/sentiment_train.txt'\n",
    "    img_train = './data1/train/MSCTD_data_train/image_index_train.txt'\n",
    "    dataframe = files_to_dataframe(txt_train, sentiment_train, img_train)\n",
    "\n",
    "    clean_pattern = \"[^a-zA-Z]\" \n",
    "\n",
    "    if clean_pattern is not None:\n",
    "        for i in range(len(dataframe)):\n",
    "            text =  re.sub(clean_pattern, \" \", dataframe.text[i])\n",
    "            text = text.lower().strip()\n",
    "            dataframe.text[i] = text\n",
    "    else:\n",
    "        for i in range(len(dataframe)):\n",
    "            text =  dataframe.text[i]\n",
    "            text = text.lower().strip()\n",
    "            dataframe.text[i] = text\n",
    "\n",
    "    vectorizer = TfidfVectorizer(stop_words=\"english\")\n",
    "    vectorized_text = vectorizer.fit_transform(dataframe.text)\n",
    "    vectorized_text = np.array(scipy.sparse.csr_matrix.todense(vectorized_text))\n",
    "    feature = vectorizer.get_feature_names_out()\n",
    "    \n",
    "    dict_data = {}\n",
    "    for i in range(vectorized_text.shape[1]):\n",
    "        dict_data[feature[i]] = vectorized_text[:, i]\n",
    "                                \n",
    "    word_dct, weight_dct  = create_svm_dataset(dataframe, dict_data)\n",
    "    svm_param = create_weight_dict(dict_data, word_dct, weight_dct)\n",
    "                                \n",
    "    return dict_data, svm_param \n",
    "\n",
    "def svm_tokenizer(dict_data, text):\n",
    "    wrd_list = clean_doc(text, \"[^a-zA-Z]\")\n",
    "    list_name = []\n",
    "    for j in range(len(wrd_list)):\n",
    "        try:\n",
    "            dict_data[wrd_list[j]]\n",
    "            list_name.append(wrd_list[j])\n",
    "        except:\n",
    "            continue\n",
    "    return list_name  "
   ]
  },
  {
   "cell_type": "markdown",
   "id": "0e564aba",
   "metadata": {},
   "source": [
    "### Loading SVM Embedding Model"
   ]
  },
  {
   "cell_type": "code",
   "execution_count": 21,
   "id": "cfb82ea5",
   "metadata": {},
   "outputs": [
    {
     "name": "stderr",
     "output_type": "stream",
     "text": [
      "100%|█████████████████████████████████████| 20240/20240 [06:59<00:00, 48.30it/s]\n"
     ]
    }
   ],
   "source": [
    "tfidf_param, svm_param = svm_embedding()"
   ]
  },
  {
   "cell_type": "markdown",
   "id": "998d5a2e",
   "metadata": {},
   "source": [
    "### Create Dataset Class"
   ]
  },
  {
   "cell_type": "code",
   "execution_count": 22,
   "id": "d379716d",
   "metadata": {},
   "outputs": [],
   "source": [
    "embed_len = 20240\n",
    "max_words = 5\n",
    "\n",
    "class MSCTDDataset(torch.utils.data.Dataset):\n",
    "    \"\"\"\n",
    "    Uses dataframe to preprocess and serve \n",
    "    dictionary of multimodal tensors for model input.\n",
    "    \"\"\"\n",
    "\n",
    "    def __init__(self, root = './data', dataset_name = 'train', text_transform=None, random_state=42, clean_pattern=None):\n",
    "        \n",
    "        \"\"\"\n",
    "        Args:\n",
    "        \n",
    "        text_add : .txt of chats.\n",
    "        sentiment_add : .txt of emotions for each line.\n",
    "        index_add : .txt of related images for each line.\n",
    "        img_dir : path to iamges folder\n",
    "        \n",
    "        \"\"\"\n",
    "        self.data_pathes = create_dataset_directory(root, dataset_name)\n",
    "        self.dataframe = files_to_dataframe(self.data_pathes[0], self.data_pathes[1], self.data_pathes[2])\n",
    "        self.img_dir = self.data_pathes[3]\n",
    "        self.text_transform = text_transform\n",
    "        self.clean_pattern = clean_pattern\n",
    "\n",
    "        \n",
    "    def __len__(self):\n",
    "        \n",
    "        return len(self.dataframe)\n",
    "    \n",
    "    def __getitem__(self, idx):\n",
    "        \n",
    "        if torch.is_tensor(idx):\n",
    "            idx = idx.tolist()\n",
    "            \n",
    "        text = self.dataframe.loc[idx, 'text']\n",
    "        label = self.dataframe.loc[idx, 'label']\n",
    "        indexes = self.dataframe.loc[idx, 'indexes']\n",
    "        tokenized_text = svm_tokenizer(tfidf_param, text)\n",
    "        \n",
    "        x_tensor = torch.zeros(max_words, embed_len)\n",
    "#         print(len(tokenized_text))\n",
    "        for i in range(min(len(tokenized_text), max_words)):\n",
    "            x_tensor[i] = torch.tensor(svm_param[tokenized_text[i]])\n",
    "            \n",
    "        x_tensor = torch.reshape(x_tensor, (-1,))\n",
    "    \n",
    "        return x_tensor, label"
   ]
  },
  {
   "cell_type": "code",
   "execution_count": 23,
   "id": "35d2ca37",
   "metadata": {},
   "outputs": [],
   "source": [
    "train_dataset =  MSCTDDataset(root = './data1', dataset_name = 'train', clean_pattern=\"[^a-zA-Z]\")\n",
    "test_dataset =  MSCTDDataset(root = './data1', dataset_name = 'test', clean_pattern=\"[^a-zA-Z]\")\n",
    "dev_dataset =  MSCTDDataset(root = './data1', dataset_name = 'dev', clean_pattern=\"[^a-zA-Z]\")"
   ]
  },
  {
   "cell_type": "markdown",
   "id": "6c22ab78",
   "metadata": {},
   "source": [
    "### Dataloader"
   ]
  },
  {
   "cell_type": "code",
   "execution_count": 24,
   "id": "de09d6e9",
   "metadata": {},
   "outputs": [],
   "source": [
    "batch_size = 512\n",
    "\n",
    "train_loader = torch.utils.data.DataLoader(dataset=train_dataset, batch_size=batch_size, shuffle=True)\n",
    "dev_loader = torch.utils.data.DataLoader(dataset=dev_dataset, batch_size=batch_size, shuffle=False)\n",
    "test_loader = torch.utils.data.DataLoader(dataset=test_dataset, batch_size=batch_size, shuffle=False)"
   ]
  },
  {
   "cell_type": "markdown",
   "id": "e0f09dc8",
   "metadata": {},
   "source": [
    "### Neural Network"
   ]
  },
  {
   "cell_type": "code",
   "execution_count": 25,
   "id": "f25f42c3",
   "metadata": {},
   "outputs": [],
   "source": [
    "class MLP(nn.Module):\n",
    "    \n",
    "    def __init__(self):\n",
    "        super(MLP, self).__init__()\n",
    "        self.fc1 = nn.Linear(max_words*embed_len, 3)\n",
    "        self.relu = nn.ReLU()\n",
    "        self.drop = nn.Dropout(0.1)\n",
    "        self.fc2 = nn.Linear(64, 3)\n",
    "        self.softmax = nn.LogSoftmax(dim=1)\n",
    "        \n",
    "    def forward(self,x):\n",
    "        x = self.fc1(x.to(torch.float))\n",
    "        x = self.softmax(x)\n",
    "        \n",
    "        return x"
   ]
  },
  {
   "cell_type": "code",
   "execution_count": 26,
   "id": "5dbf87fd",
   "metadata": {},
   "outputs": [],
   "source": [
    "model_MLP_svm = MLP().to(device)"
   ]
  },
  {
   "cell_type": "code",
   "execution_count": 27,
   "id": "ad32b11a",
   "metadata": {},
   "outputs": [
    {
     "name": "stdout",
     "output_type": "stream",
     "text": [
      "Number of Network's Parameters: 303,798\n"
     ]
    }
   ],
   "source": [
    "pytorch_total_params = sum(p.numel() for p in model_MLP_svm.parameters() if p.requires_grad)\n",
    "print(f\"Number of Network's Parameters: {pytorch_total_params:,}\")"
   ]
  },
  {
   "cell_type": "markdown",
   "id": "78ff3344",
   "metadata": {},
   "source": [
    "### Training Network"
   ]
  },
  {
   "cell_type": "code",
   "execution_count": 28,
   "id": "1ff2e10c",
   "metadata": {},
   "outputs": [
    {
     "name": "stderr",
     "output_type": "stream",
     "text": [
      "100%|███████████████████████████████████████████| 40/40 [00:02<00:00, 16.47it/s]\n"
     ]
    },
    {
     "name": "stdout",
     "output_type": "stream",
     "text": [
      "Epochs: 1 | Train Loss:  0.002                 | Train Accuracy:  42.59%                 | Val Loss:  0.002                 | Val Accuracy:  42.13%\n"
     ]
    },
    {
     "name": "stderr",
     "output_type": "stream",
     "text": [
      "100%|███████████████████████████████████████████| 40/40 [00:02<00:00, 16.58it/s]\n"
     ]
    },
    {
     "name": "stdout",
     "output_type": "stream",
     "text": [
      "Epochs: 2 | Train Loss:  0.002                 | Train Accuracy:  55.58%                 | Val Loss:  0.002                 | Val Accuracy:  45.23%\n"
     ]
    },
    {
     "name": "stderr",
     "output_type": "stream",
     "text": [
      "100%|███████████████████████████████████████████| 40/40 [00:02<00:00, 16.58it/s]\n"
     ]
    },
    {
     "name": "stdout",
     "output_type": "stream",
     "text": [
      "Epochs: 3 | Train Loss:  0.002                 | Train Accuracy:  60.88%                 | Val Loss:  0.002                 | Val Accuracy:  45.84%\n"
     ]
    },
    {
     "name": "stderr",
     "output_type": "stream",
     "text": [
      "100%|███████████████████████████████████████████| 40/40 [00:02<00:00, 16.34it/s]\n"
     ]
    },
    {
     "name": "stdout",
     "output_type": "stream",
     "text": [
      "Epochs: 4 | Train Loss:  0.002                 | Train Accuracy:  63.38%                 | Val Loss:  0.002                 | Val Accuracy:  46.00%\n"
     ]
    },
    {
     "name": "stderr",
     "output_type": "stream",
     "text": [
      "100%|███████████████████████████████████████████| 40/40 [00:02<00:00, 17.02it/s]\n"
     ]
    },
    {
     "name": "stdout",
     "output_type": "stream",
     "text": [
      "Epochs: 5 | Train Loss:  0.002                 | Train Accuracy:  65.47%                 | Val Loss:  0.002                 | Val Accuracy:  46.14%\n"
     ]
    },
    {
     "name": "stderr",
     "output_type": "stream",
     "text": [
      "100%|███████████████████████████████████████████| 40/40 [00:02<00:00, 16.95it/s]\n"
     ]
    },
    {
     "name": "stdout",
     "output_type": "stream",
     "text": [
      "Epochs: 6 | Train Loss:  0.002                 | Train Accuracy:  66.95%                 | Val Loss:  0.002                 | Val Accuracy:  46.12%\n"
     ]
    },
    {
     "name": "stderr",
     "output_type": "stream",
     "text": [
      "100%|███████████████████████████████████████████| 40/40 [00:02<00:00, 16.93it/s]\n"
     ]
    },
    {
     "name": "stdout",
     "output_type": "stream",
     "text": [
      "Epochs: 7 | Train Loss:  0.002                 | Train Accuracy:  68.22%                 | Val Loss:  0.002                 | Val Accuracy:  46.47%\n"
     ]
    },
    {
     "name": "stderr",
     "output_type": "stream",
     "text": [
      "100%|███████████████████████████████████████████| 40/40 [00:02<00:00, 16.92it/s]\n"
     ]
    },
    {
     "name": "stdout",
     "output_type": "stream",
     "text": [
      "Epochs: 8 | Train Loss:  0.002                 | Train Accuracy:  69.65%                 | Val Loss:  0.002                 | Val Accuracy:  46.08%\n"
     ]
    },
    {
     "name": "stderr",
     "output_type": "stream",
     "text": [
      "100%|███████████████████████████████████████████| 40/40 [00:02<00:00, 16.93it/s]\n"
     ]
    },
    {
     "name": "stdout",
     "output_type": "stream",
     "text": [
      "Epochs: 9 | Train Loss:  0.002                 | Train Accuracy:  70.57%                 | Val Loss:  0.002                 | Val Accuracy:  46.28%\n"
     ]
    },
    {
     "name": "stderr",
     "output_type": "stream",
     "text": [
      "100%|███████████████████████████████████████████| 40/40 [00:02<00:00, 16.94it/s]\n"
     ]
    },
    {
     "name": "stdout",
     "output_type": "stream",
     "text": [
      "Epochs: 10 | Train Loss:  0.002                 | Train Accuracy:  71.37%                 | Val Loss:  0.002                 | Val Accuracy:  46.16%\n"
     ]
    }
   ],
   "source": [
    "EPOCHS = 10\n",
    "LR = 2e-3\n",
    "criterion = nn.NLLLoss()\n",
    "optimizer = optim.Adam(model_MLP_svm.parameters(), lr=LR)\n",
    "\n",
    "train(model_MLP_svm, train_loader, dev_loader, LR, EPOCHS, criterion, optimizer)"
   ]
  },
  {
   "cell_type": "markdown",
   "id": "2cb8d95d",
   "metadata": {},
   "source": [
    "### Evaluate Model on Test Data"
   ]
  },
  {
   "cell_type": "code",
   "execution_count": 29,
   "id": "baa9a021",
   "metadata": {},
   "outputs": [],
   "source": [
    "model_MLP_svm.eval()\n",
    "y_true, y_pred = evaluate(model_MLP_svm, test_loader)"
   ]
  },
  {
   "cell_type": "markdown",
   "id": "8bffdc68",
   "metadata": {},
   "source": [
    "### Results"
   ]
  },
  {
   "cell_type": "code",
   "execution_count": 30,
   "id": "950eb2d9",
   "metadata": {},
   "outputs": [
    {
     "name": "stdout",
     "output_type": "stream",
     "text": [
      "Accuracy: 47.25%\n",
      "\n",
      "F1 score: 46.03%\n",
      "\n",
      "Confusion Matrix:\n"
     ]
    },
    {
     "data": {
      "text/plain": [
       "<sklearn.metrics._plot.confusion_matrix.ConfusionMatrixDisplay at 0x7f231bc0b640>"
      ]
     },
     "execution_count": 30,
     "metadata": {},
     "output_type": "execute_result"
    },
    {
     "data": {
      "image/png": "[encoded data removed]",
      "text/plain": [
       "<Figure size 640x480 with 2 Axes>"
      ]
     },
     "metadata": {},
     "output_type": "display_data"
    }
   ],
   "source": [
    "accuracy = accuracy_score(y_true, y_pred)\n",
    "print(f'Accuracy: {(100*accuracy):>0.2f}%\\n')\n",
    "f1 = f1_score(y_true, y_pred, average='macro')\n",
    "print(f'F1 score: {(100*f1):>0.2f}%\\n')\n",
    "\n",
    "print('Confusion Matrix:')\n",
    "classes = ['Neutral','Negative','Positive']\n",
    "cf_matrix = confusion_matrix(y_true,y_pred)\n",
    "disp = ConfusionMatrixDisplay(confusion_matrix=cf_matrix/np.sum(cf_matrix) * 100, display_labels = [i for i in classes])\n",
    "disp.plot()"
   ]
  },
  {
   "cell_type": "markdown",
   "id": "37ae3a91",
   "metadata": {},
   "source": [
    "---\n",
    "# Part (3) - GloVe: Global Vectors for Word Representation"
   ]
  },
  {
   "cell_type": "markdown",
   "id": "6fd2ffff",
   "metadata": {},
   "source": [
    "### Create Tokenizer"
   ]
  },
  {
   "cell_type": "code",
   "execution_count": 31,
   "id": "2ab6664c",
   "metadata": {},
   "outputs": [],
   "source": [
    "tokenizer = get_tokenizer(\"basic_english\")"
   ]
  },
  {
   "cell_type": "markdown",
   "id": "f3cb3e24",
   "metadata": {},
   "source": [
    "### Load GloVe '6B' Embeddings"
   ]
  },
  {
   "cell_type": "code",
   "execution_count": 32,
   "id": "01d69751",
   "metadata": {},
   "outputs": [
    {
     "name": "stdout",
     "output_type": "stream",
     "text": [
      "/home/dllabsharif/DeepProject/MSCTD/vector_cache\n"
     ]
    }
   ],
   "source": [
    "cd '/home/dllabsharif/DeepProject/MSCTD/vector_cache'"
   ]
  },
  {
   "cell_type": "code",
   "execution_count": 33,
   "id": "f3da549c",
   "metadata": {},
   "outputs": [],
   "source": [
    "global_vectors = GloVe(name='6B', dim=50)"
   ]
  },
  {
   "cell_type": "code",
   "execution_count": 34,
   "id": "2594eb3c",
   "metadata": {},
   "outputs": [
    {
     "name": "stdout",
     "output_type": "stream",
     "text": [
      "/home/dllabsharif/DeepProject/MSCTD\n"
     ]
    }
   ],
   "source": [
    "cd '/home/dllabsharif/DeepProject/MSCTD'"
   ]
  },
  {
   "cell_type": "markdown",
   "id": "fd1eef72",
   "metadata": {},
   "source": [
    "### Hyperparameters"
   ]
  },
  {
   "cell_type": "code",
   "execution_count": 35,
   "id": "0c0ee600",
   "metadata": {},
   "outputs": [],
   "source": [
    "max_words = 10\n",
    "embed_len = 50"
   ]
  },
  {
   "cell_type": "markdown",
   "id": "d93b1f6c",
   "metadata": {},
   "source": [
    "### Create Dataset Class"
   ]
  },
  {
   "cell_type": "code",
   "execution_count": 36,
   "id": "7798e236",
   "metadata": {},
   "outputs": [],
   "source": [
    "class MSCTDDataset(torch.utils.data.Dataset):\n",
    "    \"\"\"\n",
    "    Uses dataframe to preprocess and serve \n",
    "    dictionary of multimodal tensors for model input.\n",
    "    \"\"\"\n",
    "\n",
    "    def __init__(self, root = './data', dataset_name = 'train', text_transform=None, random_state=42, clean_pattern=None):\n",
    "        \n",
    "        \"\"\"\n",
    "        Args:\n",
    "        \n",
    "        text_add : .txt of chats.\n",
    "        sentiment_add : .txt of emotions for each line.\n",
    "        index_add : .txt of related images for each line.\n",
    "        img_dir : path to iamges folder\n",
    "        \n",
    "        \"\"\"\n",
    "        self.data_pathes = create_dataset_directory(root, dataset_name)\n",
    "        self.dataframe = files_to_dataframe(self.data_pathes[0], self.data_pathes[1], self.data_pathes[2])\n",
    "        self.img_dir = self.data_pathes[3]\n",
    "        self.text_transform = text_transform\n",
    "        self.clean_pattern = clean_pattern\n",
    "\n",
    "        \n",
    "        # clean our texts\n",
    "        if self.clean_pattern is not None:\n",
    "            for i in range(len(self.dataframe)):\n",
    "                text =  re.sub(self.clean_pattern, \" \", self.dataframe.text[i])\n",
    "                text = text.lower().strip()\n",
    "                self.dataframe.text[i] = text\n",
    "        else:\n",
    "            for i in range(len(self.dataframe)):\n",
    "                text =  self.dataframe.text[i]\n",
    "                text = text.lower().strip()\n",
    "                self.dataframe.text[i] = text\n",
    "                    \n",
    "        \n",
    "    def __len__(self):\n",
    "        \n",
    "        return len(self.dataframe)\n",
    "    \n",
    "    def __getitem__(self, idx):\n",
    "        \n",
    "        if torch.is_tensor(idx):\n",
    "            idx = idx.tolist()\n",
    "            \n",
    "        text = self.dataframe.loc[idx, 'text']\n",
    "        label = self.dataframe.loc[idx, 'label']\n",
    "        indexes = self.dataframe.loc[idx, 'indexes']\n",
    "        tokenized_text = tokenizer(text)\n",
    "        \n",
    "        if len(tokenized_text) < max_words:\n",
    "            tokenized_text = tokenized_text + [\"\"] * (max_words-len(tokenized_text))\n",
    "        else:\n",
    "            tokenized_text = tokenized_text[:max_words]\n",
    "            \n",
    "        x_tensor = torch.zeros(max_words, embed_len)\n",
    "        for i, tokens in enumerate(tokenized_text):\n",
    "            x_tensor[i] = global_vectors.get_vecs_by_tokens(tokens)\n",
    "            \n",
    "        x_tensor = torch.reshape(x_tensor, (-1,))\n",
    "    \n",
    "        return x_tensor, label"
   ]
  },
  {
   "cell_type": "code",
   "execution_count": 37,
   "id": "bce4d32b",
   "metadata": {},
   "outputs": [],
   "source": [
    "train_dataset =  MSCTDDataset(root = './data1', dataset_name = 'train', clean_pattern=\"[^a-zA-Z]\")\n",
    "test_dataset =  MSCTDDataset(root = './data1', dataset_name = 'test', clean_pattern=\"[^a-zA-Z]\")\n",
    "dev_dataset =  MSCTDDataset(root = './data1', dataset_name = 'dev', clean_pattern=\"[^a-zA-Z]\")"
   ]
  },
  {
   "cell_type": "markdown",
   "id": "3f7f9ac9",
   "metadata": {},
   "source": [
    "### Dataloader"
   ]
  },
  {
   "cell_type": "code",
   "execution_count": 38,
   "id": "d6ca33df",
   "metadata": {},
   "outputs": [],
   "source": [
    "batch_size = 512\n",
    "\n",
    "train_loader = torch.utils.data.DataLoader(dataset=train_dataset, batch_size=batch_size, shuffle=True)\n",
    "dev_loader = torch.utils.data.DataLoader(dataset=dev_dataset, batch_size=batch_size, shuffle=False)\n",
    "test_loader = torch.utils.data.DataLoader(dataset=test_dataset, batch_size=batch_size, shuffle=False)"
   ]
  },
  {
   "cell_type": "markdown",
   "id": "5e561367",
   "metadata": {},
   "source": [
    "### Neural Network"
   ]
  },
  {
   "cell_type": "code",
   "execution_count": 39,
   "id": "863d2c18",
   "metadata": {},
   "outputs": [],
   "source": [
    "class MLP(nn.Module):\n",
    "    \n",
    "    def __init__(self):\n",
    "        super(MLP, self).__init__()\n",
    "        self.fc1 = nn.Linear(max_words*embed_len, 3)\n",
    "        self.relu = nn.ReLU()\n",
    "        self.drop = nn.Dropout(0.1)\n",
    "        self.fc2 = nn.Linear(64, 3)\n",
    "        self.softmax = nn.LogSoftmax(dim=1)\n",
    "        \n",
    "    def forward(self,x):\n",
    "        x = self.fc1(x.to(torch.float))\n",
    "        x = self.softmax(x)\n",
    "        \n",
    "        return x"
   ]
  },
  {
   "cell_type": "code",
   "execution_count": 40,
   "id": "3366b6ff",
   "metadata": {},
   "outputs": [],
   "source": [
    "model_MLP_glove = MLP().to(device)"
   ]
  },
  {
   "cell_type": "code",
   "execution_count": 41,
   "id": "aa30461f",
   "metadata": {},
   "outputs": [
    {
     "name": "stdout",
     "output_type": "stream",
     "text": [
      "Number of Network's Parameters: 1,698\n"
     ]
    }
   ],
   "source": [
    "pytorch_total_params = sum(p.numel() for p in model_MLP_glove.parameters() if p.requires_grad)\n",
    "print(f\"Number of Network's Parameters: {pytorch_total_params:,}\")"
   ]
  },
  {
   "cell_type": "markdown",
   "id": "92964674",
   "metadata": {},
   "source": [
    "### Training Network"
   ]
  },
  {
   "cell_type": "code",
   "execution_count": 42,
   "id": "eb6a3953",
   "metadata": {},
   "outputs": [
    {
     "name": "stderr",
     "output_type": "stream",
     "text": [
      "100%|███████████████████████████████████████████| 40/40 [00:01<00:00, 32.47it/s]\n"
     ]
    },
    {
     "name": "stdout",
     "output_type": "stream",
     "text": [
      "Epochs: 1 | Train Loss:  0.002                 | Train Accuracy:  44.91%                 | Val Loss:  0.002                 | Val Accuracy:  47.09%\n"
     ]
    },
    {
     "name": "stderr",
     "output_type": "stream",
     "text": [
      "100%|███████████████████████████████████████████| 40/40 [00:01<00:00, 32.81it/s]\n"
     ]
    },
    {
     "name": "stdout",
     "output_type": "stream",
     "text": [
      "Epochs: 2 | Train Loss:  0.002                 | Train Accuracy:  50.91%                 | Val Loss:  0.002                 | Val Accuracy:  48.75%\n"
     ]
    },
    {
     "name": "stderr",
     "output_type": "stream",
     "text": [
      "100%|███████████████████████████████████████████| 40/40 [00:01<00:00, 32.81it/s]\n"
     ]
    },
    {
     "name": "stdout",
     "output_type": "stream",
     "text": [
      "Epochs: 3 | Train Loss:  0.002                 | Train Accuracy:  52.42%                 | Val Loss:  0.002                 | Val Accuracy:  48.63%\n"
     ]
    },
    {
     "name": "stderr",
     "output_type": "stream",
     "text": [
      "100%|███████████████████████████████████████████| 40/40 [00:01<00:00, 32.81it/s]\n"
     ]
    },
    {
     "name": "stdout",
     "output_type": "stream",
     "text": [
      "Epochs: 4 | Train Loss:  0.002                 | Train Accuracy:  52.96%                 | Val Loss:  0.002                 | Val Accuracy:  49.61%\n"
     ]
    },
    {
     "name": "stderr",
     "output_type": "stream",
     "text": [
      "100%|███████████████████████████████████████████| 40/40 [00:01<00:00, 32.82it/s]\n"
     ]
    },
    {
     "name": "stdout",
     "output_type": "stream",
     "text": [
      "Epochs: 5 | Train Loss:  0.002                 | Train Accuracy:  53.40%                 | Val Loss:  0.002                 | Val Accuracy:  48.47%\n"
     ]
    },
    {
     "name": "stderr",
     "output_type": "stream",
     "text": [
      "100%|███████████████████████████████████████████| 40/40 [00:01<00:00, 32.86it/s]\n"
     ]
    },
    {
     "name": "stdout",
     "output_type": "stream",
     "text": [
      "Epochs: 6 | Train Loss:  0.002                 | Train Accuracy:  53.57%                 | Val Loss:  0.002                 | Val Accuracy:  48.67%\n"
     ]
    },
    {
     "name": "stderr",
     "output_type": "stream",
     "text": [
      "100%|███████████████████████████████████████████| 40/40 [00:01<00:00, 32.86it/s]\n"
     ]
    },
    {
     "name": "stdout",
     "output_type": "stream",
     "text": [
      "Epochs: 7 | Train Loss:  0.002                 | Train Accuracy:  53.66%                 | Val Loss:  0.002                 | Val Accuracy:  48.79%\n"
     ]
    },
    {
     "name": "stderr",
     "output_type": "stream",
     "text": [
      "100%|███████████████████████████████████████████| 40/40 [00:01<00:00, 32.72it/s]\n"
     ]
    },
    {
     "name": "stdout",
     "output_type": "stream",
     "text": [
      "Epochs: 8 | Train Loss:  0.002                 | Train Accuracy:  53.66%                 | Val Loss:  0.002                 | Val Accuracy:  49.46%\n"
     ]
    },
    {
     "name": "stderr",
     "output_type": "stream",
     "text": [
      "100%|███████████████████████████████████████████| 40/40 [00:01<00:00, 32.76it/s]\n"
     ]
    },
    {
     "name": "stdout",
     "output_type": "stream",
     "text": [
      "Epochs: 9 | Train Loss:  0.002                 | Train Accuracy:  53.57%                 | Val Loss:  0.002                 | Val Accuracy:  48.51%\n"
     ]
    },
    {
     "name": "stderr",
     "output_type": "stream",
     "text": [
      "100%|███████████████████████████████████████████| 40/40 [00:01<00:00, 32.78it/s]\n"
     ]
    },
    {
     "name": "stdout",
     "output_type": "stream",
     "text": [
      "Epochs: 10 | Train Loss:  0.002                 | Train Accuracy:  53.73%                 | Val Loss:  0.002                 | Val Accuracy:  49.04%\n"
     ]
    }
   ],
   "source": [
    "EPOCHS = 10\n",
    "LR = 2e-3\n",
    "criterion = nn.NLLLoss()\n",
    "optimizer = optim.Adam(model_MLP_glove.parameters(), lr=LR)\n",
    "\n",
    "train(model_MLP_glove, train_loader, dev_loader, LR, EPOCHS, criterion, optimizer)"
   ]
  },
  {
   "cell_type": "markdown",
   "id": "62704af7",
   "metadata": {},
   "source": [
    "### Evaluate Model on Test Data"
   ]
  },
  {
   "cell_type": "code",
   "execution_count": 43,
   "id": "0fbc2f68",
   "metadata": {},
   "outputs": [],
   "source": [
    "model_MLP_glove.eval()\n",
    "y_true, y_pred = evaluate(model_MLP_glove, test_loader)"
   ]
  },
  {
   "cell_type": "markdown",
   "id": "399b18a5",
   "metadata": {},
   "source": [
    "### Results"
   ]
  },
  {
   "cell_type": "code",
   "execution_count": 44,
   "id": "c62dc98b",
   "metadata": {},
   "outputs": [
    {
     "name": "stdout",
     "output_type": "stream",
     "text": [
      "Accuracy: 49.69%\n",
      "\n",
      "F1 score: 48.10%\n",
      "\n",
      "Confusion Matrix:\n"
     ]
    },
    {
     "data": {
      "text/plain": [
       "<sklearn.metrics._plot.confusion_matrix.ConfusionMatrixDisplay at 0x7f231b965d00>"
      ]
     },
     "execution_count": 44,
     "metadata": {},
     "output_type": "execute_result"
    },
    {
     "data": {
      "image/png": "[encoded data removed]",
      "text/plain": [
       "<Figure size 640x480 with 2 Axes>"
      ]
     },
     "metadata": {},
     "output_type": "display_data"
    }
   ],
   "source": [
    "accuracy = accuracy_score(y_true, y_pred)\n",
    "print(f'Accuracy: {(100*accuracy):>0.2f}%\\n')\n",
    "f1 = f1_score(y_true, y_pred, average='macro')\n",
    "print(f'F1 score: {(100*f1):>0.2f}%\\n')\n",
    "\n",
    "print('Confusion Matrix:')\n",
    "classes = ['Neutral','Negative','Positive']\n",
    "cf_matrix = confusion_matrix(y_true,y_pred)\n",
    "disp = ConfusionMatrixDisplay(confusion_matrix=cf_matrix/np.sum(cf_matrix) * 100, display_labels = [i for i in classes])\n",
    "disp.plot()"
   ]
  },
  {
   "cell_type": "markdown",
   "id": "bfef019a",
   "metadata": {},
   "source": [
    "---\n",
    "# Part (4) - BERT"
   ]
  },
  {
   "cell_type": "markdown",
   "id": "60dccec6",
   "metadata": {},
   "source": [
    "### BertTokenizer"
   ]
  },
  {
   "cell_type": "code",
   "execution_count": 45,
   "id": "f1196e70",
   "metadata": {},
   "outputs": [],
   "source": [
    "tokenizer = BertTokenizer.from_pretrained('bert-base-cased')"
   ]
  },
  {
   "cell_type": "code",
   "execution_count": 46,
   "id": "129fa606",
   "metadata": {},
   "outputs": [],
   "source": [
    "max_length = 15"
   ]
  },
  {
   "cell_type": "markdown",
   "id": "78813dcc",
   "metadata": {},
   "source": [
    "### Create Dataset Class"
   ]
  },
  {
   "cell_type": "code",
   "execution_count": 47,
   "id": "9b30076c",
   "metadata": {},
   "outputs": [],
   "source": [
    "class MSCTDDataset(torch.utils.data.Dataset):\n",
    "    \"\"\"\n",
    "    Uses dataframe to preprocess and serve \n",
    "    dictionary of multimodal tensors for model input.\n",
    "    \"\"\"\n",
    "\n",
    "    def __init__(self, root = './data', dataset_name = 'train', text_transform=None, random_state=42, clean_pattern=None):\n",
    "        \n",
    "        \"\"\"\n",
    "        Args:\n",
    "        \n",
    "        text_add : .txt of chats.\n",
    "        sentiment_add : .txt of emotions for each line.\n",
    "        index_add : .txt of related images for each line.\n",
    "        img_dir : path to iamges folder\n",
    "        \n",
    "        \"\"\"\n",
    "        self.data_pathes = create_dataset_directory(root, dataset_name)\n",
    "        self.dataframe = files_to_dataframe(self.data_pathes[0], self.data_pathes[1], self.data_pathes[2])\n",
    "        self.img_dir = self.data_pathes[3]\n",
    "        self.text_transform = text_transform\n",
    "        self.clean_pattern = clean_pattern\n",
    "                    \n",
    "        \n",
    "    def __len__(self):\n",
    "        \n",
    "        return len(self.dataframe)\n",
    "    \n",
    "    def __getitem__(self, idx):\n",
    "        \n",
    "        if torch.is_tensor(idx):\n",
    "            idx = idx.tolist()\n",
    "            \n",
    "        text = self.dataframe.loc[idx, 'text']\n",
    "        label = self.dataframe.loc[idx, 'label']\n",
    "        \n",
    "        \n",
    "        text_tokenized = tokenizer(text, padding='max_length', max_length=max_length, truncation=True, return_tensors=\"pt\")\n",
    "        \n",
    "        \n",
    "\n",
    "\n",
    "    \n",
    "        return text_tokenized, np.array(label)"
   ]
  },
  {
   "cell_type": "code",
   "execution_count": 48,
   "id": "d235aedd",
   "metadata": {},
   "outputs": [],
   "source": [
    "train_dataset =  MSCTDDataset(root = './data1', dataset_name = 'train')\n",
    "test_dataset =  MSCTDDataset(root = './data1', dataset_name = 'test')\n",
    "dev_dataset =  MSCTDDataset(root = './data1', dataset_name = 'dev')"
   ]
  },
  {
   "cell_type": "markdown",
   "id": "d7178b99",
   "metadata": {},
   "source": [
    "### Dataloader"
   ]
  },
  {
   "cell_type": "code",
   "execution_count": 49,
   "id": "71d66173",
   "metadata": {},
   "outputs": [],
   "source": [
    "batch_size = 32\n",
    "\n",
    "train_loader = torch.utils.data.DataLoader(dataset=train_dataset, batch_size=batch_size, shuffle=True)\n",
    "dev_loader = torch.utils.data.DataLoader(dataset=dev_dataset, batch_size=batch_size, shuffle=False)\n",
    "test_loader = torch.utils.data.DataLoader(dataset=test_dataset, batch_size=batch_size, shuffle=False)"
   ]
  },
  {
   "cell_type": "markdown",
   "id": "81337126",
   "metadata": {},
   "source": [
    "### Model Building"
   ]
  },
  {
   "cell_type": "code",
   "execution_count": 50,
   "id": "c49fb48f",
   "metadata": {},
   "outputs": [],
   "source": [
    "class BertClassifier(nn.Module):\n",
    "\n",
    "    def __init__(self):\n",
    "\n",
    "        super(BertClassifier, self).__init__()\n",
    "\n",
    "        self.bert = BertModel.from_pretrained('bert-base-cased')\n",
    "        self.linear = nn.Linear(768, 3)\n",
    "\n",
    "    def forward(self, input_id, mask):\n",
    "\n",
    "        _, pooled_output = self.bert(input_ids= input_id, attention_mask=mask,return_dict=False)\n",
    "        linear_output = self.linear(pooled_output)\n",
    "\n",
    "        return linear_output"
   ]
  },
  {
   "cell_type": "code",
   "execution_count": 51,
   "id": "5d980afe",
   "metadata": {},
   "outputs": [
    {
     "name": "stderr",
     "output_type": "stream",
     "text": [
      "Some weights of the model checkpoint at bert-base-cased were not used when initializing BertModel: ['cls.predictions.decoder.weight', 'cls.seq_relationship.bias', 'cls.predictions.transform.LayerNorm.weight', 'cls.predictions.transform.dense.bias', 'cls.seq_relationship.weight', 'cls.predictions.transform.LayerNorm.bias', 'cls.predictions.bias', 'cls.predictions.transform.dense.weight']\n",
      "- This IS expected if you are initializing BertModel from the checkpoint of a model trained on another task or with another architecture (e.g. initializing a BertForSequenceClassification model from a BertForPreTraining model).\n",
      "- This IS NOT expected if you are initializing BertModel from the checkpoint of a model that you expect to be exactly identical (initializing a BertForSequenceClassification model from a BertForSequenceClassification model).\n"
     ]
    }
   ],
   "source": [
    "model_BERT = BertClassifier()"
   ]
  },
  {
   "cell_type": "code",
   "execution_count": 52,
   "id": "35bbf992",
   "metadata": {},
   "outputs": [
    {
     "name": "stdout",
     "output_type": "stream",
     "text": [
      "Number of Network's Parameters: 108,312,579\n"
     ]
    }
   ],
   "source": [
    "pytorch_total_params = sum(p.numel() for p in model_BERT.parameters() if p.requires_grad)\n",
    "print(f\"Number of Network's Parameters: {pytorch_total_params:,}\")"
   ]
  },
  {
   "cell_type": "markdown",
   "id": "80ba476b",
   "metadata": {},
   "source": [
    "### Training Loop"
   ]
  },
  {
   "cell_type": "code",
   "execution_count": 53,
   "id": "64952ae8",
   "metadata": {},
   "outputs": [],
   "source": [
    "def train(model, train_dataloader, val_dataloader, epochs, criterion, optimizer):\n",
    "\n",
    "    use_cuda = torch.cuda.is_available()\n",
    "    device = torch.device(\"cuda\" if use_cuda else \"cpu\")\n",
    "\n",
    "    if use_cuda:\n",
    "\n",
    "            model = model.cuda()\n",
    "            criterion = criterion.cuda()\n",
    "\n",
    "    for epoch_num in range(epochs):\n",
    "\n",
    "            total_acc_train = 0\n",
    "            total_loss_train = 0\n",
    "\n",
    "            for train_input, train_label in tqdm(train_dataloader):\n",
    "\n",
    "                train_label = train_label.to(device)\n",
    "                mask = train_input['attention_mask'].to(device)\n",
    "                input_id = train_input['input_ids'].squeeze(1).to(device)\n",
    "\n",
    "                output = model(input_id, mask)\n",
    "                \n",
    "                batch_loss = criterion(output, train_label.long())\n",
    "                total_loss_train += batch_loss.item()\n",
    "                \n",
    "                acc = (output.argmax(dim=1) == train_label).sum().item()\n",
    "                total_acc_train += acc\n",
    "\n",
    "                model.zero_grad()\n",
    "                batch_loss.backward()\n",
    "                optimizer.step()\n",
    "            \n",
    "            total_acc_val = 0\n",
    "            total_loss_val = 0\n",
    "\n",
    "            with torch.no_grad():\n",
    "\n",
    "                for val_input, val_label in val_dataloader:\n",
    "\n",
    "                    val_label = val_label.to(device)\n",
    "                    mask = val_input['attention_mask'].to(device)\n",
    "                    input_id = val_input['input_ids'].squeeze(1).to(device)\n",
    "\n",
    "                    output = model(input_id, mask)\n",
    "\n",
    "                    batch_loss = criterion(output, val_label.long())\n",
    "                    total_loss_val += batch_loss.item()\n",
    "                    \n",
    "                    acc = (output.argmax(dim=1) == val_label).sum().item()\n",
    "                    total_acc_val += acc\n",
    "            \n",
    "            print(\n",
    "                f'Epochs: {epoch_num + 1} | Train Loss: {total_loss_train / len(train_dataset): .3f} \\\n",
    "                | Train Accuracy: {100 * total_acc_train / len(train_dataset): .2f}% \\\n",
    "                | Val Loss: {total_loss_val / len(dev_dataset): .3f} \\\n",
    "                | Val Accuracy: {100 * total_acc_val / len(dev_dataset): .2f}%')"
   ]
  },
  {
   "cell_type": "markdown",
   "id": "82d83ecc",
   "metadata": {},
   "source": [
    "### Training Network"
   ]
  },
  {
   "cell_type": "code",
   "execution_count": 54,
   "id": "a7972709",
   "metadata": {},
   "outputs": [
    {
     "name": "stderr",
     "output_type": "stream",
     "text": [
      "100%|█████████████████████████████████████████| 633/633 [00:20<00:00, 30.81it/s]\n"
     ]
    },
    {
     "name": "stdout",
     "output_type": "stream",
     "text": [
      "Epochs: 1 | Train Loss:  0.027                 | Train Accuracy:  60.21%                 | Val Loss:  0.027                 | Val Accuracy:  59.67%\n"
     ]
    },
    {
     "name": "stderr",
     "output_type": "stream",
     "text": [
      "100%|█████████████████████████████████████████| 633/633 [00:20<00:00, 30.79it/s]\n"
     ]
    },
    {
     "name": "stdout",
     "output_type": "stream",
     "text": [
      "Epochs: 2 | Train Loss:  0.020                 | Train Accuracy:  74.48%                 | Val Loss:  0.032                 | Val Accuracy:  58.74%\n"
     ]
    }
   ],
   "source": [
    "EPOCHS = 2\n",
    "LR = 5e-5\n",
    "criterion = nn.CrossEntropyLoss()\n",
    "optimizer = optim.Adam(model_BERT.parameters(), lr= LR)\n",
    "              \n",
    "train(model_BERT, train_loader, dev_loader, EPOCHS, criterion, optimizer)"
   ]
  },
  {
   "cell_type": "markdown",
   "id": "b9b99742",
   "metadata": {},
   "source": [
    "### Evaluate Model on Test Data"
   ]
  },
  {
   "cell_type": "code",
   "execution_count": 55,
   "id": "71b9eed1",
   "metadata": {},
   "outputs": [],
   "source": [
    "def evaluate(model, test_dataloader):\n",
    "\n",
    "    use_cuda = torch.cuda.is_available()\n",
    "    device = torch.device(\"cuda\" if use_cuda else \"cpu\")\n",
    "\n",
    "    if use_cuda:\n",
    "\n",
    "        model = model.cuda()\n",
    "\n",
    "    with torch.no_grad():\n",
    "        \n",
    "        y_pred = []\n",
    "        y_true = []\n",
    "\n",
    "        for test_input, test_label in test_dataloader:\n",
    "\n",
    "            test_label = test_label.to(device).data.cpu().numpy()\n",
    "            y_true.extend(test_label) # Save Truth\n",
    "\n",
    "\n",
    "            mask = test_input['attention_mask'].to(device)\n",
    "            input_id = test_input['input_ids'].squeeze(1).to(device)\n",
    "\n",
    "            output = model(input_id, mask)\n",
    "            output = output.argmax(dim=1).data.cpu().numpy()\n",
    "            y_pred.extend(output) # Save Prediction\n",
    "                \n",
    "    return y_true, y_pred"
   ]
  },
  {
   "cell_type": "code",
   "execution_count": 56,
   "id": "0df9296a",
   "metadata": {},
   "outputs": [],
   "source": [
    "model_BERT.eval()\n",
    "y_true, y_pred = evaluate(model_BERT, test_loader)"
   ]
  },
  {
   "cell_type": "markdown",
   "id": "44cfef2c",
   "metadata": {},
   "source": [
    "### Results"
   ]
  },
  {
   "cell_type": "code",
   "execution_count": 57,
   "id": "4d956a8f",
   "metadata": {},
   "outputs": [
    {
     "name": "stdout",
     "output_type": "stream",
     "text": [
      "Accuracy: 58.34%\n",
      "\n",
      "F1 score: 57.71%\n",
      "\n",
      "Confusion Matrix:\n"
     ]
    },
    {
     "data": {
      "text/plain": [
       "<sklearn.metrics._plot.confusion_matrix.ConfusionMatrixDisplay at 0x7f22ed108730>"
      ]
     },
     "execution_count": 57,
     "metadata": {},
     "output_type": "execute_result"
    },
    {
     "data": {
      "image/png": "[encoded data removed]",
      "text/plain": [
       "<Figure size 640x480 with 2 Axes>"
      ]
     },
     "metadata": {},
     "output_type": "display_data"
    }
   ],
   "source": [
    "accuracy = accuracy_score(y_true, y_pred)\n",
    "print(f'Accuracy: {(100*accuracy):>0.2f}%\\n')\n",
    "f1 = f1_score(y_true, y_pred, average='macro')\n",
    "print(f'F1 score: {(100*f1):>0.2f}%\\n')\n",
    "\n",
    "print('Confusion Matrix:')\n",
    "classes = ['Neutral','Negative','Positive']\n",
    "cf_matrix = confusion_matrix(y_true,y_pred)\n",
    "disp = ConfusionMatrixDisplay(confusion_matrix=cf_matrix/np.sum(cf_matrix) * 100, display_labels = [i for i in classes])\n",
    "disp.plot()"
   ]
  },
  {
   "cell_type": "markdown",
   "id": "f0b5397b",
   "metadata": {},
   "source": [
    "---\n",
    "# Conclusion"
   ]
  },
  {
   "cell_type": "markdown",
   "id": "7462e292",
   "metadata": {},
   "source": [
    "**Summary of phase 2 results:**\n",
    "\n",
    "\n",
    "*   Part 1 (TF-IDF):\n",
    "\n",
    "> Accuracy: 49.16%\n",
    "\n",
    "> F1Score: 44.16%\n",
    "\n",
    "*   Part 2 (SVM):\n",
    "\n",
    "> Accuracy: 47.25%\n",
    "\n",
    "> F1Score: 46.03%\n",
    "\n",
    "*   Part 3 (GloVe):\n",
    "\n",
    "> Accuracy: 49.69%\n",
    "\n",
    "> F1Score: 48.10%\n",
    "\n",
    "*   Part 4 (BERT):\n",
    "\n",
    "> Accuracy: 58.34%\n",
    "\n",
    "> F1Score: 57.71%\n"
   ]
  },
  {
   "cell_type": "markdown",
   "id": "8cf03812",
   "metadata": {},
   "source": [
    "### By comparing the above results, it is clearly seen that using the BERT network has outperformed all other methods."
   ]
  }
 ],
 "metadata": {
  "kernelspec": {
   "display_name": "Python 3 (ipykernel)",
   "language": "python",
   "name": "python3"
  },
  "language_info": {
   "codemirror_mode": {
    "name": "ipython",
    "version": 3
   },
   "file_extension": ".py",
   "mimetype": "text/x-python",
   "name": "python",
   "nbconvert_exporter": "python",
   "pygments_lexer": "ipython3",
   "version": "3.8.10"
  }
 },
 "nbformat": 4,
 "nbformat_minor": 5
}
